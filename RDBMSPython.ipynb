{
  "nbformat": 4,
  "nbformat_minor": 0,
  "metadata": {
    "colab": {
      "provenance": [],
      "authorship_tag": "ABX9TyOcb2oLhxcycv/0lkUrI0E0",
      "include_colab_link": true
    },
    "kernelspec": {
      "name": "python3",
      "display_name": "Python 3"
    },
    "language_info": {
      "name": "python"
    }
  },
  "cells": [
    {
      "cell_type": "markdown",
      "metadata": {
        "id": "view-in-github",
        "colab_type": "text"
      },
      "source": [
        "<a href=\"https://colab.research.google.com/github/uchihaada/Python/blob/main/RDBMSPython.ipynb\" target=\"_parent\"><img src=\"https://colab.research.google.com/assets/colab-badge.svg\" alt=\"Open In Colab\"/></a>"
      ]
    },
    {
      "cell_type": "code",
      "execution_count": null,
      "metadata": {
        "colab": {
          "base_uri": "https://localhost:8080/"
        },
        "id": "z3IPZg0LDtOi",
        "outputId": "089f6ad6-1575-4a81-c8e3-9cc38df68ba9"
      },
      "outputs": [
        {
          "output_type": "stream",
          "name": "stdout",
          "text": [
            "[(5, 'ada', 93), (11, 'bittu', 73), (12, 'aryaan', 97), (65, 'anunit', 85)]\n"
          ]
        }
      ],
      "source": [
        "import sqlite3\n",
        "conn=sqlite3.connect('HIT.db')\n",
        "cur=conn.cursor()\n",
        "# cur.execute('create table ada (rollno int\\\n",
        "# primary key check(typeof(rollno)=\"integer\"),\\\n",
        "# name varchar(23) check(typeof(name)=\"text\"),\\\n",
        "# percentage int check(typeof(percentage)=\"integer\"));')\n",
        "# print(\"table created\")\n",
        "\n",
        "# cur.execute('select * from sqlite_master')\n",
        "# print(cur.fetchall())\n",
        "\n",
        "cur.execute('insert into ada values(5,\"ada\",93)')\n",
        "cur.execute('insert into ada values(11,\"bittu\",73)')\n",
        "cur.execute('insert into ada values(12,\"aryaan\",97)')\n",
        "cur.execute('insert into ada values(65,\"anunit\",85)')\n",
        "cur.execute('select *from ada')\n",
        "print(cur.fetchall())"
      ]
    },
    {
      "cell_type": "code",
      "source": [],
      "metadata": {
        "id": "uWr9v_GrYZq5"
      },
      "execution_count": null,
      "outputs": []
    },
    {
      "cell_type": "markdown",
      "source": [],
      "metadata": {
        "id": "CRQjp10KYed9"
      }
    },
    {
      "cell_type": "code",
      "source": [
        "import sqlite3\n",
        "\n",
        "list1=[(12,\"abc\",89),(14,\"rty\",56),(16,\"eryu\",89)]\n",
        "con=sqlite3.connect('HITkk.db')\n",
        "cur=con.cursor()\n",
        "cur.execute('create table gg1 (rollno int\\\n",
        "primary key check(typeof(rollno)=\"integer\"),\\\n",
        "name varchar(23) check(typeof(name)=\"text\"),\\\n",
        "percentage int check(typeof(percentage)=\"integer\"));')\n",
        "print(\"table created\")\n",
        "\n",
        "cur.executemany('insert into gg1 values(?,?,?)',list1)\n",
        "cur.execute('select * from gg1')\n",
        "print(cur.fetchall())\n",
        "\n"
      ],
      "metadata": {
        "colab": {
          "base_uri": "https://localhost:8080/"
        },
        "id": "GBxiLDEMOVAc",
        "outputId": "bdd1a90c-69e1-442c-f3b8-3e6baca30f69"
      },
      "execution_count": null,
      "outputs": [
        {
          "output_type": "stream",
          "name": "stdout",
          "text": [
            "table created\n",
            "[(12, 'abc', 89), (14, 'rty', 56), (16, 'eryu', 89)]\n"
          ]
        }
      ]
    },
    {
      "cell_type": "code",
      "source": [
        "\n",
        "\n",
        "roll1=int(input())\n",
        "name1=input()\n",
        "\n",
        "per=int(input())\n",
        "\n",
        "cur=con.cursor()\n",
        "\n",
        "cur.execute('insert into gg values(?,?,?)',(roll1,name1,per))\n",
        "# cur.execute('select count(*) from gg')\n",
        "\n",
        "cur.execute('select *from gg where name like \"_a%\"')\n",
        "print(cur.fetchall())\n",
        "\n",
        "\n",
        "\n"
      ],
      "metadata": {
        "colab": {
          "base_uri": "https://localhost:8080/"
        },
        "id": "A6k-pW0gQesO",
        "outputId": "d2e8c0c8-2f40-41fd-93ff-6fd6cba6cfe6"
      },
      "execution_count": null,
      "outputs": [
        {
          "output_type": "stream",
          "name": "stdout",
          "text": [
            "78\n",
            "gandu\n",
            "89\n",
            "[(78, 'gandu', 89)]\n"
          ]
        }
      ]
    },
    {
      "cell_type": "code",
      "source": [
        "name=input()\n",
        "cur=conn.cursor()\n",
        "cur.execute('select * from gg1 where name = :value',{'value':name})\n",
        "\n",
        "print(cur.fetchall())\n",
        "\n"
      ],
      "metadata": {
        "colab": {
          "base_uri": "https://localhost:8080/",
          "height": 253
        },
        "id": "7BpojuSOWf3Z",
        "outputId": "fbacb666-9393-45ec-b2f5-055b7b026223"
      },
      "execution_count": null,
      "outputs": [
        {
          "name": "stdout",
          "output_type": "stream",
          "text": [
            "abc\n"
          ]
        },
        {
          "output_type": "error",
          "ename": "ProgrammingError",
          "evalue": "ignored",
          "traceback": [
            "\u001b[0;31m---------------------------------------------------------------------------\u001b[0m",
            "\u001b[0;31mProgrammingError\u001b[0m                          Traceback (most recent call last)",
            "\u001b[0;32m<ipython-input-46-4d2423f32437>\u001b[0m in \u001b[0;36m<module>\u001b[0;34m\u001b[0m\n\u001b[1;32m      1\u001b[0m \u001b[0mname\u001b[0m\u001b[0;34m=\u001b[0m\u001b[0minput\u001b[0m\u001b[0;34m(\u001b[0m\u001b[0;34m)\u001b[0m\u001b[0;34m\u001b[0m\u001b[0;34m\u001b[0m\u001b[0m\n\u001b[0;32m----> 2\u001b[0;31m \u001b[0mcur\u001b[0m\u001b[0;34m=\u001b[0m\u001b[0mconn\u001b[0m\u001b[0;34m.\u001b[0m\u001b[0mcursor\u001b[0m\u001b[0;34m(\u001b[0m\u001b[0;34m)\u001b[0m\u001b[0;34m\u001b[0m\u001b[0;34m\u001b[0m\u001b[0m\n\u001b[0m\u001b[1;32m      3\u001b[0m \u001b[0mcur\u001b[0m\u001b[0;34m.\u001b[0m\u001b[0mexecute\u001b[0m\u001b[0;34m(\u001b[0m\u001b[0;34m'select * from gg1 where name = :value'\u001b[0m\u001b[0;34m,\u001b[0m\u001b[0;34m{\u001b[0m\u001b[0;34m'value'\u001b[0m\u001b[0;34m:\u001b[0m\u001b[0mname\u001b[0m\u001b[0;34m}\u001b[0m\u001b[0;34m)\u001b[0m\u001b[0;34m\u001b[0m\u001b[0;34m\u001b[0m\u001b[0m\n\u001b[1;32m      4\u001b[0m \u001b[0;34m\u001b[0m\u001b[0m\n\u001b[1;32m      5\u001b[0m \u001b[0mprint\u001b[0m\u001b[0;34m(\u001b[0m\u001b[0mcur\u001b[0m\u001b[0;34m.\u001b[0m\u001b[0mfetchall\u001b[0m\u001b[0;34m(\u001b[0m\u001b[0;34m)\u001b[0m\u001b[0;34m)\u001b[0m\u001b[0;34m\u001b[0m\u001b[0;34m\u001b[0m\u001b[0m\n",
            "\u001b[0;31mProgrammingError\u001b[0m: Cannot operate on a closed database."
          ]
        }
      ]
    },
    {
      "cell_type": "code",
      "source": [
        "cur=con.cursor()\n",
        "z=cur.execute('select * from gg1 where name =? ',(namee,))\n",
        "for i in z:\n",
        "  print(i[0])\n",
        "  print(i[1])"
      ],
      "metadata": {
        "id": "11vSOJjIfZ_F"
      },
      "execution_count": null,
      "outputs": []
    }
  ]
}