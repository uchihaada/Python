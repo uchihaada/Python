{
  "nbformat": 4,
  "nbformat_minor": 0,
  "metadata": {
    "colab": {
      "provenance": [],
      "authorship_tag": "ABX9TyOUY1LZD7c1N6q3imIBJfV3",
      "include_colab_link": true
    },
    "kernelspec": {
      "name": "python3",
      "display_name": "Python 3"
    },
    "language_info": {
      "name": "python"
    }
  },
  "cells": [
    {
      "cell_type": "markdown",
      "metadata": {
        "id": "view-in-github",
        "colab_type": "text"
      },
      "source": [
        "<a href=\"https://colab.research.google.com/github/uchihaada/Python/blob/main/main.ipynb\" target=\"_parent\"><img src=\"https://colab.research.google.com/assets/colab-badge.svg\" alt=\"Open In Colab\"/></a>"
      ]
    },
    {
      "cell_type": "code",
      "execution_count": null,
      "metadata": {
        "colab": {
          "base_uri": "https://localhost:8080/"
        },
        "id": "qpRHaoE_8z1T",
        "outputId": "d96d713b-0242-4278-e2b3-55c33ed1e398"
      },
      "outputs": [
        {
          "output_type": "stream",
          "name": "stdout",
          "text": [
            "33\n",
            "9.0\n",
            "8\n"
          ]
        }
      ],
      "source": [
        "# print(18+15)\n",
        "\n",
        "# print(27//3.0)\n",
        "\n",
        "# print(2**3)\n",
        "\n",
        "x,y=2.0,3.4\n",
        "\n",
        "\n",
        "\n"
      ]
    },
    {
      "cell_type": "code",
      "source": [
        "# x,y=2.0,3.4\n",
        "\n",
        "# print('the variables are {0} and {1}'.format(x,y))\n",
        "\n",
        "# print('hello \\n'+ 'world')\n",
        "\n",
        "# num1=int(input('Enter the Number'))\n",
        "\n",
        "# num2=int(input('Enter the Number'))\n",
        "\n",
        "# print(num1+num2)\n",
        "\n",
        "# print(type(num1))\n",
        "\n",
        "# dir(__builtins__)\n",
        "\n",
        "# help(eval)\n",
        "\n",
        "# max(3,546,0,-1)\n",
        "\n",
        "# min(0,-1,-998786,-1)\n",
        "\n",
        "# min('hello','how','are')\n",
        "\n",
        "\n"
      ],
      "metadata": {
        "id": "qxX3ZQ80CyEK"
      },
      "execution_count": null,
      "outputs": []
    },
    {
      "cell_type": "code",
      "source": [
        "import random\n",
        "\n",
        "import math\n",
        "\n",
        "z=math.floor(random.random()*10)+1\n",
        "\n",
        "if z<5:\n",
        "  print('Number is less than 5')\n",
        "else:\n",
        "  print('Number is greater than 5')\n",
        "\n",
        "\n",
        "\n",
        "\n"
      ],
      "metadata": {
        "colab": {
          "base_uri": "https://localhost:8080/"
        },
        "id": "_q08RBCKFbI2",
        "outputId": "bf68c441-98ea-409e-dcbc-d9ef4d145454"
      },
      "execution_count": null,
      "outputs": [
        {
          "output_type": "stream",
          "name": "stdout",
          "text": [
            "Number is greater than 5\n"
          ]
        }
      ]
    },
    {
      "cell_type": "code",
      "source": [
        "\n"
      ],
      "metadata": {
        "id": "Wmvm2Ep-Gdd-"
      },
      "execution_count": null,
      "outputs": []
    },
    {
      "cell_type": "code",
      "source": [
        "import math\n",
        "\n",
        "f=math.fabs(-3.5)\n",
        "c=math.ceil(3.4)\n",
        "f=math.floor(3.2)\n",
        "\n",
        "\n",
        "\n",
        "print(z)"
      ],
      "metadata": {
        "colab": {
          "base_uri": "https://localhost:8080/"
        },
        "id": "XLm9IAQsHKfQ",
        "outputId": "04473842-3ea1-4f7c-d5e6-f03fd6631faa"
      },
      "execution_count": null,
      "outputs": [
        {
          "output_type": "stream",
          "name": "stdout",
          "text": [
            "3.5\n"
          ]
        }
      ]
    },
    {
      "cell_type": "code",
      "source": [],
      "metadata": {
        "id": "gWvhdN6DJsKv"
      },
      "execution_count": null,
      "outputs": []
    },
    {
      "cell_type": "code",
      "source": [
        "def reactangle(l,b):\n",
        "  a=l*b\n",
        "  print('area is {0}'.format(a))\n",
        "  return a\n",
        "def main():\n",
        "  length=int(input())\n",
        "  breadth=int(input())\n",
        "\n",
        "  print(reactangle(length,breadth))8\n",
        "  \n",
        "\n",
        "\n",
        "main() "
      ],
      "metadata": {
        "colab": {
          "base_uri": "https://localhost:8080/"
        },
        "id": "Wk2OgVuYLtpE",
        "outputId": "4c0334ab-35e5-4718-d9a3-c266cbd7fee0"
      },
      "execution_count": null,
      "outputs": [
        {
          "output_type": "stream",
          "name": "stdout",
          "text": [
            "5\n",
            "8\n",
            "area is 40\n",
            "40\n"
          ]
        }
      ]
    },
    {
      "cell_type": "code",
      "source": [],
      "metadata": {
        "id": "mp5EGSdHMhh0"
      },
      "execution_count": null,
      "outputs": []
    },
    {
      "cell_type": "code",
      "source": [
        "\n",
        "!python /content/module.py\n"
      ],
      "metadata": {
        "id": "UAjNKwKZOUIL"
      },
      "execution_count": null,
      "outputs": []
    },
    {
      "cell_type": "code",
      "source": [
        "\n",
        "import module\n",
        "\n",
        "c=module.cube(5)\n",
        "s=module.sphere(3)\n",
        "r=module.reactangle(5,4)\n",
        "print(c,s,r)"
      ],
      "metadata": {
        "colab": {
          "base_uri": "https://localhost:8080/"
        },
        "id": "TCrvQwFYO_0F",
        "outputId": "5e1a5531-5da6-4778-8fe8-36e8d908ead1"
      },
      "execution_count": null,
      "outputs": [
        {
          "output_type": "stream",
          "name": "stdout",
          "text": [
            "125 28.26 20\n"
          ]
        }
      ]
    },
    {
      "cell_type": "code",
      "source": [
        "!python /content/user.py"
      ],
      "metadata": {
        "id": "hNBxg_WFUWWN"
      },
      "execution_count": null,
      "outputs": []
    },
    {
      "cell_type": "code",
      "source": [
        "import user\n",
        "\n",
        "\n",
        "\n",
        "\n",
        "\n",
        "for i in range(1,10):\n",
        "  userId=input()\n",
        "\n",
        "  passWord=input()\n",
        "  list.append(user.auth(userId,passWord))\n",
        "\n",
        "\n",
        "for i in list:\n",
        "  print(i)\n"
      ],
      "metadata": {
        "id": "8Xk-dwnpUvIL"
      },
      "execution_count": null,
      "outputs": []
    },
    {
      "cell_type": "code",
      "source": [
        "\n",
        "for i in range(1,8,6):\n",
        "  print(i)"
      ],
      "metadata": {
        "colab": {
          "base_uri": "https://localhost:8080/"
        },
        "id": "l_9ozAScV6gB",
        "outputId": "37cf855e-18ff-47dd-87d6-97fffe86a0f3"
      },
      "execution_count": null,
      "outputs": [
        {
          "output_type": "stream",
          "name": "stdout",
          "text": [
            "1\n",
            "7\n"
          ]
        }
      ]
    },
    {
      "cell_type": "code",
      "source": [
        "import random\n",
        "list =[]\n",
        "\n",
        "for i in range(0,100):\n",
        "  x=random.randint(2,20)\n",
        "\n",
        "  list.append(x)\n",
        "\n",
        "\n",
        "for i in list:\n",
        "  print(i)"
      ],
      "metadata": {
        "id": "ZXbAyB7iW_2R"
      },
      "execution_count": null,
      "outputs": []
    },
    {
      "cell_type": "markdown",
      "source": [],
      "metadata": {
        "id": "FTp9DVmP7wQm"
      }
    },
    {
      "cell_type": "code",
      "source": [],
      "metadata": {
        "id": "fH003wY_7v6E"
      },
      "execution_count": null,
      "outputs": []
    },
    {
      "cell_type": "code",
      "source": [
        "z=(\"ada\",2,3,4)\n",
        "\n",
        "\n",
        "\n",
        "print(type(z))"
      ],
      "metadata": {
        "colab": {
          "base_uri": "https://localhost:8080/"
        },
        "id": "fFN8nZry8Nbz",
        "outputId": "3a75c5d5-3fef-4ec6-e488-49d8bd315b8f"
      },
      "execution_count": null,
      "outputs": [
        {
          "output_type": "stream",
          "name": "stdout",
          "text": [
            "<class 'tuple'>\n"
          ]
        }
      ]
    },
    {
      "cell_type": "code",
      "source": [
        "li=[]\n",
        "t=()\n",
        "\n",
        "for i in range(0,1000000):\n",
        "  li.append(i)\n",
        "  t.append(i)\n",
        "\n",
        "  \n",
        "print(li)\n",
        "print(t)"
      ],
      "metadata": {
        "id": "G7BjU7t49yxX"
      },
      "execution_count": null,
      "outputs": []
    },
    {
      "cell_type": "code",
      "source": [
        "import sys,platform\n",
        "import time\n",
        "\n",
        "\n",
        "li=list(range(100000))\n",
        "tu=tuple(range(100000))\n",
        "li[3]=67\n",
        "# tu[3]=67 ## tuple is immutable this will throw  error\n",
        "\n",
        "\n",
        "print(sys.getsizeof(li))\n",
        "print(sys.getsizeof(tu))\n",
        "\n",
        "\n",
        "print(li)\n",
        "print(tu)\n",
        "\n",
        "start=time.time_ns()\n",
        "\n",
        "\n",
        "for i in range(len(li)):\n",
        "  a=li[i]\n",
        "end=time.time_ns()\n",
        "\n",
        "print(end-start)\n",
        "\n",
        "start2=time.time_ns()\n",
        "\n",
        "\n",
        "for i in range(len(li)):\n",
        "  b=tu[i]\n",
        "end2=time.time_ns()\n",
        "\n",
        "print(end2-start2)\n"
      ],
      "metadata": {
        "id": "_eXuYP1K-0qb"
      },
      "execution_count": null,
      "outputs": []
    },
    {
      "cell_type": "code",
      "source": [
        "\n",
        "li=list(range(100))\n",
        "# tu=tuple(range(100))\n",
        "\n",
        "# print(li[3:])\n",
        "\n",
        "a=[]\n",
        "\n",
        "for i in range(len(li)):\n",
        "  li[i]=li[i]*li[i]\n",
        "\n",
        "\n",
        "print(li) \n",
        "\n",
        "\n",
        "# li.index(4)\n",
        "\n",
        "# li.remove(4) ## remove element\n",
        "# print(li)\n",
        "\n",
        "\n",
        "# del li[3:] ##remove element from list from index\n",
        "# print(li)\n",
        "\n",
        "# li.pop(1) ##removes element\n",
        "# print(li)\n",
        "\n",
        "\n",
        "# li.pop() ## removes last element\n",
        "\n",
        "\n",
        "\n"
      ],
      "metadata": {
        "colab": {
          "base_uri": "https://localhost:8080/"
        },
        "id": "R2QFi709DWXE",
        "outputId": "1bb9cd52-2577-40cf-c03b-fb7d83f92a8d"
      },
      "execution_count": null,
      "outputs": [
        {
          "output_type": "stream",
          "name": "stdout",
          "text": [
            "[0, 1, 4, 9, 16, 25, 36, 49, 64, 81, 100, 121, 144, 169, 196, 225, 256, 289, 324, 361, 400, 441, 484, 529, 576, 625, 676, 729, 784, 841, 900, 961, 1024, 1089, 1156, 1225, 1296, 1369, 1444, 1521, 1600, 1681, 1764, 1849, 1936, 2025, 2116, 2209, 2304, 2401, 2500, 2601, 2704, 2809, 2916, 3025, 3136, 3249, 3364, 3481, 3600, 3721, 3844, 3969, 4096, 4225, 4356, 4489, 4624, 4761, 4900, 5041, 5184, 5329, 5476, 5625, 5776, 5929, 6084, 6241, 6400, 6561, 6724, 6889, 7056, 7225, 7396, 7569, 7744, 7921, 8100, 8281, 8464, 8649, 8836, 9025, 9216, 9409, 9604, 9801]\n",
            "[0, 4, 9, 16, 25, 36, 49, 64, 81, 100, 121, 144, 169, 196, 225, 256, 289, 324, 361, 400, 441, 484, 529, 576, 625, 676, 729, 784, 841, 900, 961, 1024, 1089, 1156, 1225, 1296, 1369, 1444, 1521, 1600, 1681, 1764, 1849, 1936, 2025, 2116, 2209, 2304, 2401, 2500, 2601, 2704, 2809, 2916, 3025, 3136, 3249, 3364, 3481, 3600, 3721, 3844, 3969, 4096, 4225, 4356, 4489, 4624, 4761, 4900, 5041, 5184, 5329, 5476, 5625, 5776, 5929, 6084, 6241, 6400, 6561, 6724, 6889, 7056, 7225, 7396, 7569, 7744, 7921, 8100, 8281, 8464, 8649, 8836, 9025, 9216, 9409, 9604, 9801]\n"
          ]
        }
      ]
    },
    {
      "cell_type": "markdown",
      "source": [
        "Generate a random password of length 10 such that two are uppercases and one is a number one is  a special character , find @ is there or not in the password.\n",
        "\n",
        "If not then replace the third character with @"
      ],
      "metadata": {
        "id": "jOUq1AYVG-dR"
      }
    },
    {
      "cell_type": "code",
      "source": [],
      "metadata": {
        "id": "g5v8-p0uEdIN"
      },
      "execution_count": null,
      "outputs": []
    },
    {
      "cell_type": "code",
      "source": [
        "import string\n",
        "import random\n",
        "\n",
        "\n",
        "x=string.ascii_letters\n",
        "y=string.digits\n",
        "z=string.punctuation\n",
        "print(x)\n",
        "print(z)\n",
        "print(y)\n",
        "\n",
        "\n",
        "\n",
        "s=random.sample(x,6)\n",
        "print(s)\n",
        "\n",
        "a=random.choice(s)\n",
        "print(a)\n",
        "\n",
        "random.shuffle(s)\n",
        "print(s)\n",
        "\n",
        "\n",
        "\n",
        "\n",
        "\n",
        "\n"
      ],
      "metadata": {
        "id": "0HxVOQYDHhex"
      },
      "execution_count": null,
      "outputs": []
    },
    {
      "cell_type": "markdown",
      "source": [
        "Generate a random password of length 10 such that two are uppercases and one is a number one is a special character , find @ is there or not in the password.\n",
        "\n",
        "If not then replace the third character with @\n"
      ],
      "metadata": {
        "id": "TvdjFMy4LYjx"
      }
    },
    {
      "cell_type": "code",
      "source": [
        "import string\n",
        "import random\n",
        "\n",
        "u=string.ascii_uppercase\n",
        "l=string.ascii_lowercase\n",
        "d=string.digits\n",
        "s=string.punctuation\n",
        "\n",
        "ul=random.sample(u,2)\n",
        "ll=random.sample(l,6)\n",
        "dl=random.sample(d,1)\n",
        "sl=random.sample(s,1)\n",
        "\n",
        "ans=[]\n",
        "\n",
        "ans.append(ul)\n",
        "ans.append(ll)\n",
        "ans.append(dl)\n",
        "ans.append(sl)\n",
        "\n",
        "random.shuffle(ans)\n",
        "# password=\"\"\n",
        "\n",
        "# for i in range(len(ans)):\n",
        "#   password=password+ans[i]\n",
        "\n",
        "# print(password)\n",
        "# if '@' in ans:\n",
        "#   pass\n",
        "# else:\n",
        "#   x=ans[2]\n",
        "#   if x.islower()==True:\n",
        "#     ans[2]='@'\n",
        "#   else:\n",
        "#     while ans[2].isupper():\n",
        "#       random.shuffle(ans)\n",
        "#     ans[2]='@'\n",
        "\n",
        "\n",
        "print(ans)\n"
      ],
      "metadata": {
        "colab": {
          "base_uri": "https://localhost:8080/"
        },
        "id": "3JznRxkSKdFv",
        "outputId": "2f5378dc-efcf-4f84-96eb-5c10cd50d115"
      },
      "execution_count": null,
      "outputs": [
        {
          "output_type": "stream",
          "name": "stdout",
          "text": [
            "[['-'], ['4'], ['M', 'V'], ['k', 'g', 'c', 'h', 'd', 'o']]\n"
          ]
        }
      ]
    },
    {
      "cell_type": "markdown",
      "source": [
        "##NUMPY"
      ],
      "metadata": {
        "id": "zsik_JY9Qauy"
      }
    },
    {
      "cell_type": "markdown",
      "source": [
        "# New Section"
      ],
      "metadata": {
        "id": "fw_p6RgbPd-q"
      }
    },
    {
      "cell_type": "markdown",
      "source": [],
      "metadata": {
        "id": "V3f-qWQjQd9S"
      }
    },
    {
      "cell_type": "code",
      "source": [
        "from array import array\n",
        "import numpy as np\n",
        "\n",
        "\n",
        "arr=np.array([1,2,3,4])\n",
        "\n",
        "print(arr.dtype)\n",
        "print(arr.shape)\n",
        "print(arr.ndim)\n",
        "print(arr.size)\n",
        "print(arr)\n",
        "arr1=np.array([[1,2,3],[3,4,7]])\n",
        "\n",
        "print(arr1.dtype)\n",
        "print(arr1.shape)\n",
        "print(arr1.ndim)\n",
        "print(arr1.size)\n",
        "print(arr1)\n",
        "\n",
        "\n",
        "\n",
        "arr2=np.zeros((3,4))\n",
        "\n",
        "print(arr2)\n",
        "\n",
        "\n",
        "arr3=np.array([[1,2,4],[4,5,8]],dtype=float)\n",
        "print(arr3)\n",
        "\n",
        "arr4=np.arange(0,30,5)\n",
        "print(arr4)\n",
        "\n",
        "\n",
        "arr5=np.random.random((2,4))\n",
        "print(arr5)\n",
        "\n",
        "\n",
        "arr6=np.array([2,3,6,8,9,12])\n",
        "print(arr6.ndim)\n",
        "\n",
        "newArr=arr6.reshape((3,2))\n",
        "# print(newArr)\n",
        "\n",
        "for i in newArr:\n",
        "  for j in i:\n",
        "    print(j)\n",
        "\n",
        "\n",
        "\n",
        "\n",
        "\n",
        "ar1=np.array([1,2,3])\n",
        "ar2=np.array([2,3,4])\n",
        "\n",
        "arr=np.concatenate((ar1,ar2))\n",
        "\n",
        "print(arr)\n",
        "\n",
        "x=np.where(arr==4)\n",
        "print(x)\n"
      ],
      "metadata": {
        "colab": {
          "base_uri": "https://localhost:8080/"
        },
        "id": "BWzkQ-mIQaQs",
        "outputId": "9121cf5c-799c-4aaf-f178-ae4e4e515c48"
      },
      "execution_count": null,
      "outputs": [
        {
          "output_type": "stream",
          "name": "stdout",
          "text": [
            "int64\n",
            "(4,)\n",
            "1\n",
            "4\n",
            "[1 2 3 4]\n",
            "int64\n",
            "(2, 3)\n",
            "2\n",
            "6\n",
            "[[1 2 3]\n",
            " [3 4 7]]\n",
            "[[0. 0. 0. 0.]\n",
            " [0. 0. 0. 0.]\n",
            " [0. 0. 0. 0.]]\n",
            "[[1. 2. 4.]\n",
            " [4. 5. 8.]]\n",
            "[ 0  5 10 15 20 25]\n",
            "[[0.7180071  0.14044495 0.60370151 0.55038424]\n",
            " [0.55481012 0.25480818 0.82295133 0.85063275]]\n",
            "1\n",
            "2\n",
            "3\n",
            "6\n",
            "8\n",
            "9\n",
            "12\n",
            "[1 2 3 2 3 4]\n",
            "(array([5]),)\n"
          ]
        }
      ]
    },
    {
      "cell_type": "markdown",
      "source": [
        "Two dimensional array with sequence of number from 1 to 30 with step jump of 3 the array , find out all the even numbers"
      ],
      "metadata": {
        "id": "FuN88eGlYWsM"
      }
    },
    {
      "cell_type": "code",
      "source": [
        "from array import array\n",
        "import numpy as np\n",
        "\n",
        "\n",
        "\n",
        "arr=np.arange(1,30,3)\n",
        "print(arr)\n",
        "\n",
        "\n",
        "\n",
        "\n",
        "\n",
        "\n",
        "b=arr.reshape((5,2))\n",
        "\n",
        "print(b)\n",
        "\n",
        "a=np.where(b%2==0)\n",
        "print(a)\n"
      ],
      "metadata": {
        "colab": {
          "base_uri": "https://localhost:8080/"
        },
        "id": "Ed4WyIo-YtLM",
        "outputId": "54368424-51d8-4424-f626-d213282aeb9d"
      },
      "execution_count": null,
      "outputs": [
        {
          "output_type": "stream",
          "name": "stdout",
          "text": [
            "[ 1  4  7 10 13 16 19 22 25 28]\n",
            "[[ 1  4]\n",
            " [ 7 10]\n",
            " [13 16]\n",
            " [19 22]\n",
            " [25 28]]\n",
            "(array([0, 1, 2, 3, 4]), array([1, 1, 1, 1, 1]))\n"
          ]
        }
      ]
    },
    {
      "cell_type": "code",
      "source": [],
      "metadata": {
        "id": "CmGGMNoPbbzj"
      },
      "execution_count": null,
      "outputs": []
    },
    {
      "cell_type": "code",
      "source": [
        "from numpy import random\n",
        "# x=random.randint(100)\n",
        "\n",
        "# print(x)\n",
        "# for i in range(3,100):\n",
        "#   print(random.randint(1000))\n",
        "\n",
        "# print(random.rand(5))\n",
        "\n",
        "\n",
        "speed=[112,80,40,45,78]\n",
        "x=np.percentile(speed,75)\n",
        "\n",
        "print(x)"
      ],
      "metadata": {
        "colab": {
          "base_uri": "https://localhost:8080/"
        },
        "id": "rqnZOsh8b4Y6",
        "outputId": "68266cb5-c1e3-4757-f94b-f12ae4f9c8b5"
      },
      "execution_count": null,
      "outputs": [
        {
          "output_type": "stream",
          "name": "stdout",
          "text": [
            "80.0\n"
          ]
        }
      ]
    },
    {
      "cell_type": "markdown",
      "source": [
        "# b for blue\n",
        "# g for green\n",
        "# k for black\n",
        "# m for magenta\n",
        "# r for red\n",
        "# w for white\n",
        "# c for cyan\n",
        "\n",
        "# o for circle\n",
        "# .point(default)\n",
        "# * for star\n",
        "# x for cross\n",
        "# v  for down triangle\n"
      ],
      "metadata": {
        "id": "I3KtG9tdHsQO"
      }
    },
    {
      "cell_type": "code",
      "source": [
        "import matplotlib.pyplot as plt\n",
        "\n",
        "x= float(input())\n",
        "y=float(input())\n",
        "\n",
        "plt.plot(x,y,'ro--')\n",
        "plt.show()"
      ],
      "metadata": {
        "id": "kFUj1VPpcw2d"
      },
      "execution_count": null,
      "outputs": []
    },
    {
      "cell_type": "code",
      "source": [
        "import matplotlib.pyplot as plt\n",
        "Write a programme to plot a lost of two plot two functions f(x)=x2 f(x)=x3 f(x)=2x+4 f(x)=4x**2 +5x+4 x is a list of value taken from user and passed as a parameter to the function myplot\n",
        "\n",
        "set the limits of the axis such that x axis will be min(x) -4 y will be max(x)+4\n",
        "\n",
        "give appropiate legend title x level and y level to the plot\n",
        "\n",
        "\n",
        "\n",
        "\n",
        "x=list(map(float, input(\"Enter the list numbers separated by space \").split()))\n",
        "y1=list(map(float, input(\"Enter the list numbers separated by space \").split()))\n",
        "y2=list(map(float, input(\"Enter the list numbers separated by space \").split()))\n",
        "\n",
        "fig=plt.figure()\n",
        "plt.plot(x,y1,'k+-',markersize=14.9,linewidth=4.6,label='x vs x**2')\n",
        "plt.plot(x,y2,'m+-',markersize=14.9,linewidth=4.5,label='x vs x**3')\n",
        "plt.title('GG')\n",
        "plt.xlabel('X coordinate')\n",
        "plt.ylabel('Y coordinate')\n",
        "plt.legend()\n",
        "plt.axis([1,15,1,20])\n",
        "plt.grid()\n",
        "plt.show()\n",
        "fig.savefig('test1.jpg')"
      ],
      "metadata": {
        "id": "_RfPUrs_cWob",
        "colab": {
          "base_uri": "https://localhost:8080/",
          "height": 364
        },
        "outputId": "1e65e9cc-9d7b-4cf3-9fd8-0b257323eebc"
      },
      "execution_count": null,
      "outputs": [
        {
          "output_type": "stream",
          "name": "stdout",
          "text": [
            "Enter the list numbers separated by space 2 3 4\n",
            "Enter the list numbers separated by space 1 2 4\n",
            "[2.0, 3.0, 4.0]\n",
            "[1.0, 2.0, 4.0]\n"
          ]
        },
        {
          "output_type": "display_data",
          "data": {
            "text/plain": [
              "<Figure size 432x288 with 1 Axes>"
            ],
            "image/png": "[encoded data removed]"
          },
          "metadata": {
            "needs_background": "light"
          }
        }
      ]
    },
    {
      "cell_type": "code",
      "source": [],
      "metadata": {
        "id": "enuq4GP1Osiv"
      },
      "execution_count": null,
      "outputs": []
    },
    {
      "cell_type": "markdown",
      "source": [
        "Write a programme to plot a lost of two plot two functions f(x)=x2 f(x)=x3 f(x)=2x+4 f(x)=4x**2 +5x+4 x is a list of value taken from user and passed as a parameter to the function myplot\n",
        "\n",
        "set the limits of the axis such that x axis will be min(x) -4 y will be max(x)+4\n",
        "\n",
        "give appropiate legend title x level and y level to the plot\n",
        "set the marker size 10.5 and line width as 2.5"
      ],
      "metadata": {
        "id": "OAr3obv2O4fv"
      }
    },
    {
      "cell_type": "code",
      "source": [
        "import matplotlib.pyplot as plt\n",
        "\n",
        "x=list(map(float, input(\"Enter the list numbers separated by space \").split()))\n",
        "\n",
        "l1=[t**2 for t in x]\n",
        "l2=[t**3 for t in x]\n",
        "l3=[(2*t+4) for t in x]\n",
        "l4=[(4*(t**2)+5*t+4) for t in x]\n",
        "\n",
        "\n",
        "\n",
        "plt.plot(x,l1,'rs-',markersize=10.5,linewidth=2.5,label='x vs x**2')\n",
        "plt.plot(x,l2,'c>-',markersize=10.5,linewidth=2.5,label='x vs x**3')\n",
        "plt.plot(x,l3,'ko-',markersize=10.5,linewidth=2.5,label='x vs 2x+4')\n",
        "plt.plot(x,l4,'b+-',markersize=10.5,linewidth=2.5,label='x vs 4x**2+5x+4')\n",
        "\n",
        "max=x[0]\n",
        "for i in x:\n",
        "  if i>max:\n",
        "    max=i\n",
        "min=x[0]\n",
        "for i in x:\n",
        "  if i<min:\n",
        "    min=i\n",
        "    \n",
        "print(max)\n",
        "print(min)\n",
        "\n",
        "plt.title('Function')\n",
        "plt.xlabel('X coordinate')\n",
        "plt.ylabel('Y coordinate')\n",
        "plt.legend()\n",
        "plt.axis([1,min-4,1,max+4])\n",
        "plt.grid()\n",
        "plt.show()\n"
      ],
      "metadata": {
        "colab": {
          "base_uri": "https://localhost:8080/",
          "height": 347
        },
        "id": "pjS6y8HePBTt",
        "outputId": "8f51dba0-9620-4140-8922-5a5e41dc784b"
      },
      "execution_count": null,
      "outputs": [
        {
          "output_type": "stream",
          "name": "stdout",
          "text": [
            "Enter the list numbers separated by space 1 2 3 4\n",
            "4.0\n",
            "1.0\n"
          ]
        },
        {
          "output_type": "display_data",
          "data": {
            "text/plain": [
              "<Figure size 432x288 with 1 Axes>"
            ],
            "image/png": "[encoded data removed]"
          },
          "metadata": {
            "needs_background": "light"
          }
        }
      ]
    },
    {
      "cell_type": "code",
      "source": [
        "import matplotlib.pyplot as plt\n",
        "\n",
        "def pf(x):\n",
        "  y1=[i**1 for i in x]\n",
        "  y2=[i**2 for i in x]\n",
        "  y3=[i**3 for i in x]\n",
        "  y4=[i**4 for i in x]\n",
        "  y5=[i**5 for i in x]\n",
        "  y6=[i**6 for i in x]\n",
        "\n",
        "\n",
        "  plt.subplot(2,3,1)\n",
        "  plt.plot(x,y1,'ro-')\n",
        "  plt.xlabel('x')\n",
        "  plt.ylabel('y')\n",
        "  plt.title('x vs x**1')\n",
        "  plt.grid()\n",
        "\n",
        "  plt.subplot(2,3,2)\n",
        "  plt.plot(x,y2,'ms-')\n",
        "  plt.xlabel('x')\n",
        "  plt.ylabel('y')\n",
        "  plt.title('x vs x**2')\n",
        "  plt.grid()\n",
        "\n",
        "  plt.subplot(2,3,3)\n",
        "  plt.plot(x,y3,'b>-')\n",
        "  plt.xlabel('x')\n",
        "  plt.ylabel('y')\n",
        "  plt.title('x vs x**3')\n",
        "  plt.grid()\n",
        "\n",
        "\n",
        "  plt.subplot(2,3,4)\n",
        "  plt.plot(x,y4,'k<-')\n",
        "  plt.xlabel('x')\n",
        "  plt.ylabel('y')\n",
        "  plt.title('x vs x**4')\n",
        "  plt.grid()\n",
        "\n",
        "  plt.subplot(2,3,5)\n",
        "  plt.plot(x,y5,'cv-')\n",
        "  plt.xlabel('x')\n",
        "  plt.ylabel('y')\n",
        "  plt.title('x vs x**5')\n",
        "  plt.grid()\n",
        "\n",
        "\n",
        "  plt.subplot(2,3,6)\n",
        "  plt.plot(x,y6,'g8-')\n",
        "  plt.xlabel('x')\n",
        "  plt.ylabel('y')\n",
        "  plt.title('x vs x**6')\n",
        "  plt.grid()\n",
        "\n",
        "\n",
        "  plt.show()\n",
        "\n",
        "\n",
        "def main():\n",
        "  x=eval(input('enter the list'))\n",
        "  pf(x)\n",
        "main()\n"
      ],
      "metadata": {
        "colab": {
          "base_uri": "https://localhost:8080/",
          "height": 312
        },
        "id": "rCuYXTjMVSNf",
        "outputId": "9c77ec9f-e8b9-4f40-90f7-adeae8d83253"
      },
      "execution_count": null,
      "outputs": [
        {
          "name": "stdout",
          "output_type": "stream",
          "text": [
            "enter the list2,24,5,6\n"
          ]
        },
        {
          "output_type": "display_data",
          "data": {
            "text/plain": [
              "<Figure size 432x288 with 6 Axes>"
            ],
            "image/png": "[encoded data removed]"
          },
          "metadata": {
            "needs_background": "light"
          }
        }
      ]
    },
    {
      "cell_type": "code",
      "source": [
        "\n",
        "\n",
        "data=eval(input())\n",
        "\n",
        "plt.hist(data,edgecolor='black',bins=3)\n",
        "plt.xlabel('values')\n",
        "plt.ylabel('frequency')\n",
        "plt.title('Histogram')\n",
        "plt.xlim(min(data) -1, max(data)+3)\n",
        "plt.show()"
      ],
      "metadata": {
        "colab": {
          "base_uri": "https://localhost:8080/",
          "height": 252
        },
        "id": "kv8Tn6e2Zk5N",
        "outputId": "6f709944-497c-4472-e030-02a1160ac579"
      },
      "execution_count": null,
      "outputs": [
        {
          "name": "stdout",
          "output_type": "stream",
          "text": [
            "4,5,5,7,6,8,8,9,4,4,4,4,5,5,7,7,8,8,8\n"
          ]
        },
        {
          "output_type": "error",
          "ename": "NameError",
          "evalue": "ignored",
          "traceback": [
            "\u001b[0;31m---------------------------------------------------------------------------\u001b[0m",
            "\u001b[0;31mNameError\u001b[0m                                 Traceback (most recent call last)",
            "\u001b[0;32m<ipython-input-1-b223388e1d34>\u001b[0m in \u001b[0;36m<module>\u001b[0;34m\u001b[0m\n\u001b[1;32m      1\u001b[0m \u001b[0mdata\u001b[0m\u001b[0;34m=\u001b[0m\u001b[0meval\u001b[0m\u001b[0;34m(\u001b[0m\u001b[0minput\u001b[0m\u001b[0;34m(\u001b[0m\u001b[0;34m)\u001b[0m\u001b[0;34m)\u001b[0m\u001b[0;34m\u001b[0m\u001b[0;34m\u001b[0m\u001b[0m\n\u001b[1;32m      2\u001b[0m \u001b[0;34m\u001b[0m\u001b[0m\n\u001b[0;32m----> 3\u001b[0;31m \u001b[0mplt\u001b[0m\u001b[0;34m.\u001b[0m\u001b[0mhist\u001b[0m\u001b[0;34m(\u001b[0m\u001b[0mdata\u001b[0m\u001b[0;34m,\u001b[0m\u001b[0medgecolor\u001b[0m\u001b[0;34m=\u001b[0m\u001b[0;34m'black'\u001b[0m\u001b[0;34m,\u001b[0m\u001b[0mbins\u001b[0m\u001b[0;34m=\u001b[0m\u001b[0;36m3\u001b[0m\u001b[0;34m)\u001b[0m\u001b[0;34m\u001b[0m\u001b[0;34m\u001b[0m\u001b[0m\n\u001b[0m\u001b[1;32m      4\u001b[0m \u001b[0mplt\u001b[0m\u001b[0;34m.\u001b[0m\u001b[0mxlabel\u001b[0m\u001b[0;34m(\u001b[0m\u001b[0;34m'values'\u001b[0m\u001b[0;34m)\u001b[0m\u001b[0;34m\u001b[0m\u001b[0;34m\u001b[0m\u001b[0m\n\u001b[1;32m      5\u001b[0m \u001b[0mplt\u001b[0m\u001b[0;34m.\u001b[0m\u001b[0mylabel\u001b[0m\u001b[0;34m(\u001b[0m\u001b[0;34m'frequency'\u001b[0m\u001b[0;34m)\u001b[0m\u001b[0;34m\u001b[0m\u001b[0;34m\u001b[0m\u001b[0m\n",
            "\u001b[0;31mNameError\u001b[0m: name 'plt' is not defined"
          ]
        }
      ]
    },
    {
      "cell_type": "code",
      "source": [],
      "metadata": {
        "id": "gQCyjsM1dKVt"
      },
      "execution_count": null,
      "outputs": []
    }
  ]
}