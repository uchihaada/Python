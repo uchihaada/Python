{
  "nbformat": 4,
  "nbformat_minor": 0,
  "metadata": {
    "colab": {
      "provenance": [],
      "include_colab_link": true
    },
    "kernelspec": {
      "name": "python3",
      "display_name": "Python 3"
    },
    "language_info": {
      "name": "python"
    }
  },
  "cells": [
    {
      "cell_type": "markdown",
      "metadata": {
        "id": "view-in-github",
        "colab_type": "text"
      },
      "source": [
        "<a href=\"https://colab.research.google.com/github/uchihaada/Python/blob/main/Database.ipynb\" target=\"_parent\"><img src=\"https://colab.research.google.com/assets/colab-badge.svg\" alt=\"Open In Colab\"/></a>"
      ]
    },
    {
      "cell_type": "markdown",
      "source": [
        "1)Create a table to store and retrieve large digital objects each employee’s following details:\n",
        "The employee’s ID acting as the primary key, the employee’s name such that all\n",
        "names should start with capital letter, employee’s photo, and his/her resume."
      ],
      "metadata": {
        "id": "17Ox8_sKPP6m"
      }
    },
    {
      "cell_type": "code",
      "execution_count": null,
      "metadata": {
        "id": "saLw07k6PFgO"
      },
      "outputs": [],
      "source": [
        "import sqlite3\n",
        "conn=sqlite3.connect('EmployeeDatabase1.db')\n",
        "cur=conn.cursor()\n",
        "cur.execute('create table new_emp1(id integer primary key, name text NOT NULL, photo BLOB NOT NULL ,resume BLOB NOT NULL)')\n",
        "print('Table created')"
      ]
    },
    {
      "cell_type": "markdown",
      "source": [
        "a) Write user defined python function for convert the large digital files into binary, and another function to store those in SQL tables. Insert atleast 3 employee’s record."
      ],
      "metadata": {
        "id": "js3Drdt7PO0R"
      }
    },
    {
      "cell_type": "code",
      "source": [
        "conn.close()\n",
        "connn=sqlite3.connect('EmployeeDatabase1.db')\n",
        "currr=connn.cursor()\n",
        "def convertToBinary(filename):\n",
        "  #convert digital to binary\n",
        "  with open(filename,'rb') as file:\n",
        "      blobData=file.read()\n",
        "      return blobData\n",
        "\n",
        "def insertBLOB(empid,name,photo,resumeFile):\n",
        "  z='insert into new_emp1(id,name,photo,resume) values(?,?,?,?)'\n",
        "  empphoto=convertToBinary(photo)\n",
        "  resume=convertToBinary(resumeFile)\n",
        "  dataTuple=(empid,name,empphoto,resume)\n",
        "  currr.execute(z,dataTuple)\n",
        "  connn.commit()\n",
        "  currr.close()\n",
        "\n",
        "insertBLOB(2,'prerna','/content/prerna.jpg','/content/prerna_resume.pdf')"
      ],
      "metadata": {
        "id": "EXt2YnlSP7LW"
      },
      "execution_count": null,
      "outputs": []
    },
    {
      "cell_type": "code",
      "source": [
        "#connn=sqlite3.connect('EmployeeDatabase.db')\n",
        "curr1=connn.cursor()\n",
        "e=curr1.execute('select * from new_emp1')\n",
        "print(e.fetchall())\n",
        "connn.commit()\n",
        "curr1.close()"
      ],
      "metadata": {
        "id": "arrIHWAOV2z7"
      },
      "execution_count": null,
      "outputs": []
    },
    {
      "cell_type": "markdown",
      "source": [
        "b) Write a user defined python function to retrieve and print the id, name and download the photo and resume of a specific employee, whose id is entered by the user."
      ],
      "metadata": {
        "id": "gw2Cz-vQWctT"
      }
    },
    {
      "cell_type": "code",
      "source": [
        "\n",
        "def WriteToFile(data,filename):\n",
        "  #Convert Binary data to proper format and write to hard disk\n",
        "  with open(filename,'wb') as file:\n",
        "    file.write(data)\n",
        "def readBlobData(empid):\n",
        "  connn=sqlite3.connect('EmployeeDatabase1.db')\n",
        "  curr1=connn.cursor()\n",
        "  sql1='select * from new_emp1 where id=?'\n",
        "  curr1.execute(sql1,(empid,))\n",
        "  record=curr1.fetchall()\n",
        "  for row in record:\n",
        "    print(\"Id : \",row[0],\"Name : \",row[1])\n",
        "    name=row[1]\n",
        "    photo=row[2]\n",
        "    resumefile=row[3]\n",
        "    photopath=\"/content/\"+name+\".jpg\"\n",
        "    resumepath=\"/content/\"+name+\"_resume.pdf\"\n",
        "    WriteToFile(photo,photopath)\n",
        "    WriteToFile(resumefile,resumepath)\n",
        "  curr1.close()\n",
        "readBlobData(1)\n",
        "readBlobData(2)"
      ],
      "metadata": {
        "id": "NBKzOEBxWgiG"
      },
      "execution_count": null,
      "outputs": []
    },
    {
      "cell_type": "markdown",
      "source": [
        "a)Create the Doctor and Hospital Table following the data model described above."
      ],
      "metadata": {
        "id": "kbRc-NXiX__Q"
      }
    },
    {
      "cell_type": "code",
      "source": [
        "import sqlite3\n",
        "con2=sqlite3.connect('Hospital1.db')\n",
        "cur2=con2.cursor()\n",
        "cur2.execute('CREATE TABLE Hospital (Hospital_Id INTEGER PRIMARY KEY NOT NULL, Hospital_Name TEXT NOT NULL, Bed_Count INTEGER)');\n",
        "print('Table Created')\n",
        "    \n",
        "    \n"
      ],
      "metadata": {
        "id": "iS47VX5DdhHg"
      },
      "execution_count": null,
      "outputs": []
    },
    {
      "cell_type": "code",
      "source": [
        "cur2.execute('INSERT INTO Hospital (Hospital_Id, Hospital_Name, Bed_Count)  VALUES (1, \"Mayo Clinic\", 200) ')"
      ],
      "metadata": {
        "id": "84XHBsfje2He"
      },
      "execution_count": null,
      "outputs": []
    },
    {
      "cell_type": "code",
      "source": [
        "cur2.execute('INSERT INTO Hospital (Hospital_Id, Hospital_Name, Bed_Count)  VALUES (2, \"Cleveland Clinic\", 400) ')\n",
        "cur2.execute('INSERT INTO Hospital (Hospital_Id, Hospital_Name, Bed_Count)  VALUES (3, \"Johns Hopkins\", 1000) ')\n",
        "cur2.execute('INSERT INTO Hospital (Hospital_Id, Hospital_Name, Bed_Count)  VALUES (4, \"UCLA Medical Center\", 1500) ')"
      ],
      "metadata": {
        "id": "5hr-FIIpgC9d"
      },
      "execution_count": null,
      "outputs": []
    },
    {
      "cell_type": "code",
      "source": [
        "e=cur2.execute('select * from Hospital')\n",
        "print(e.fetchall())"
      ],
      "metadata": {
        "id": "iNXgvwmmgC0Q"
      },
      "execution_count": null,
      "outputs": []
    },
    {
      "cell_type": "code",
      "source": [
        "cur2.execute('CREATE TABLE Doctor (Doctor_Id INTEGER NOT NULL PRIMARY KEY,Doctor_Name TEXT NOT NULL, Hospital_Id INTEGER NOT NULL, Joining_Date TEXT NOT NULL, Speciality TEXT NOT NULL, Salary INTEGER NOT NULL,Experience INTEGER);')"
      ],
      "metadata": {
        "id": "fwrmjzkvg60L"
      },
      "execution_count": null,
      "outputs": []
    },
    {
      "cell_type": "code",
      "source": [
        "cur2.execute('INSERT INTO Doctor (Doctor_Id, Doctor_Name, Hospital_Id, Joining_Date, Speciality, Salary, Experience) VALUES (101, \"David\", 1, \"2005-2-10\", \"Pediatric\", 40000, NULL)')"
      ],
      "metadata": {
        "id": "VP4pzW6IhnkY"
      },
      "execution_count": null,
      "outputs": []
    },
    {
      "cell_type": "code",
      "source": [
        "cur2.execute('INSERT INTO Doctor (Doctor_Id, Doctor_Name, Hospital_Id, Joining_Date, Speciality, Salary, Experience) VALUES (102, \"Michael\", 1, \"2018-07-23\", \"Oncologist\", 20000, NULL)')\n",
        "cur2.execute('INSERT INTO Doctor (Doctor_Id, Doctor_Name, Hospital_Id, Joining_Date, Speciality, Salary, Experience) VALUES (103, \"Susan\", 2, \"2016-05-19\", \"Garnacologist\", 25000, NULL)')\n",
        "cur2.execute('INSERT INTO Doctor (Doctor_Id, Doctor_Name, Hospital_Id, Joining_Date, Speciality, Salary, Experience) VALUES (104, \"Robert\", 2, \"2017-12-28\", \"Pediatric \", 28000, NULL)')\n",
        "cur2.execute('INSERT INTO Doctor (Doctor_Id, Doctor_Name, Hospital_Id, Joining_Date, Speciality, Salary, Experience) VALUES (105, \"Linda\", 3, \"2004-06-04\", \"Garnacologist\", 42000, NULL)')\n",
        "cur2.execute('INSERT INTO Doctor (Doctor_Id, Doctor_Name, Hospital_Id, Joining_Date, Speciality, Salary, Experience) VALUES (106, \"William\", 3, \"2012-09-11\", \"Dermatologist\", 30000, NULL)')\n",
        "cur2.execute('INSERT INTO Doctor (Doctor_Id, Doctor_Name, Hospital_Id, Joining_Date, Speciality, Salary, Experience) VALUES (107, \"Richard\", 4, \"2014-08-21\", \"Garnacologist\", 32000, NULL)')\n",
        "cur2.execute('INSERT INTO Doctor (Doctor_Id, Doctor_Name, Hospital_Id, Joining_Date, Speciality, Salary, Experience) VALUES (108, \"Karen\", 4, \"2011-10-17\", \"Radiologist\", 30000, NULL)')"
      ],
      "metadata": {
        "id": "1paBMs4kiH1m"
      },
      "execution_count": null,
      "outputs": []
    },
    {
      "cell_type": "markdown",
      "source": [
        "b)Implement the functionality to read the details of a given doctor from the doctor table and Hospital from the hospital table. i.e., read records from Hospital and Doctor Table as per given hospital Id and Doctor Id.\n",
        "\n",
        "Output: As per hospital id = 2 and doctor-id = 105"
      ],
      "metadata": {
        "id": "21O9kGZvjlH3"
      }
    },
    {
      "cell_type": "code",
      "source": [
        "def get_hospital_detail(hospital_id):\n",
        "  select_query = \"\"\"select * from Hospital where Hospital_Id = ?\"\"\"\n",
        "  cur2.execute(select_query, (hospital_id,))\n",
        "  records = cur2.fetchall()\n",
        "  print(\"Printing Hospital record\")\n",
        "  for row in records:\n",
        "    print(\"Hospital Id:\", row[0], )\n",
        "    print(\"Hospital Name:\", row[1])\n",
        "    print(\"Bed Count:\", row[2])\n",
        "\n",
        "def get_doctor_detail(doctor_id):\n",
        "  select_query = \"\"\"select * from Doctor where Doctor_Id = ?\"\"\"\n",
        "  cur2.execute(select_query, (doctor_id,))\n",
        "  records = cur2.fetchall()\n",
        "  print(\" \")\n",
        "  print(\"Printing Doctor record\")\n",
        "  for row in records:\n",
        "    print(\"Doctor Id:\", row[0])\n",
        "    print(\"Doctor Name:\", row[1])\n",
        "    print(\"Hospital Id:\", row[2])\n",
        "    print(\"Joining Date:\", row[3])\n",
        "    print(\"Specialty:\", row[4])\n",
        "    print(\"Salary:\", row[5])\n",
        "    print(\"Experience:\", row[6])\n",
        "\n",
        "get_hospital_detail(2)\n",
        "get_doctor_detail(105)"
      ],
      "metadata": {
        "id": "qB1Q-BqKjp7U"
      },
      "execution_count": null,
      "outputs": []
    },
    {
      "cell_type": "markdown",
      "source": [
        "c)Fetch all doctors whose salary higher than the input amount and specialty is the same as the input specialty."
      ],
      "metadata": {
        "id": "_4grC5nIjlA_"
      }
    },
    {
      "cell_type": "code",
      "source": [
        "def get_specialist_doctors_list(speciality, salary):\n",
        "  sql_select_query = \"\"\"select * from Doctor where Speciality = ? and Salary > ?\"\"\"\n",
        "  cur2.execute(sql_select_query, (speciality, salary))\n",
        "  records = cur2.fetchall()\n",
        "  print(\"Printing doctors whose specialty is\", speciality, \"and salary greater than\", salary, \"\\n\")\n",
        "  for row in records:\n",
        "    print(\"Doctor Id: \", row[0])\n",
        "    print(\"Doctor Name:\", row[1])\n",
        "    print(\"Hospital Id:\", row[2])\n",
        "    print(\"Joining Date:\", row[3])\n",
        "    print(\"Specialty:\", row[4])\n",
        "    print(\"Salary:\", row[5])\n",
        "    print(\"Experience:\", row[6], \"\\n\")\n",
        "get_specialist_doctors_list(\"Garnacologist\",30000)"
      ],
      "metadata": {
        "id": "YtMVVYy4lo_a"
      },
      "execution_count": null,
      "outputs": []
    },
    {
      "cell_type": "markdown",
      "source": [
        "d)The value of the experience column for each doctor is null. Implement the functionality to update the experience of a given doctor in years."
      ],
      "metadata": {
        "id": "cwFMdZNKI6HX"
      }
    },
    {
      "cell_type": "code",
      "source": [
        "print(\"Before updation of experience \\n\")\n",
        "get_doctor_detail(102)"
      ],
      "metadata": {
        "id": "_b-1QXdOMvBF"
      },
      "execution_count": null,
      "outputs": []
    },
    {
      "cell_type": "code",
      "source": [
        "import datetime\n",
        "from dateutil.relativedelta import relativedelta\n",
        "\n",
        "\n",
        "def update_doctor_experience(doctor_id):\n",
        "  select_query = \"select Joining_Date from Doctor where Doctor_Id = ?\"\n",
        "  cur2.execute(select_query, (doctor_id,))\n",
        "  joining_date = cur2.fetchone()\n",
        "\n",
        "  # calculate Experience in years\n",
        "  joining_date_1 = datetime.datetime.strptime(''.join(map(str, joining_date)), '%Y-%m-%d')\n",
        "  today_date = datetime.datetime.now()\n",
        "  experience = relativedelta(today_date, joining_date_1).years\n",
        "\n",
        "  # Update doctor's Experience \n",
        "  \n",
        "  sql_select_query = \"update Doctor set Experience = ? where Doctor_Id = ?\"\n",
        "  cur2.execute(sql_select_query, (experience, doctor_id))\n",
        "  con2.commit()\n",
        "  print(\"Doctor Id:\", doctor_id, \" Experience updated to \", experience, \" years\")\n",
        "\n",
        "update_doctor_experience(102)"
      ],
      "metadata": {
        "id": "c99SyxRoJHDg"
      },
      "execution_count": null,
      "outputs": []
    },
    {
      "cell_type": "markdown",
      "source": [
        "e) Implement a functionality to find out the details of hospitals with more than 50 doctors."
      ],
      "metadata": {
        "id": "qHXYoajfNCtx"
      }
    },
    {
      "cell_type": "code",
      "source": [
        "def get_hospital_name(hospital_id):\n",
        "  select_query = \"\"\"select * from Hospital where Hospital_Id = ?\"\"\"\n",
        "  cur2.execute(select_query, (hospital_id,))\n",
        "  record = cur2.fetchone()\n",
        "  return record[1]\n",
        "\n",
        "def get_doctors(hospital_id):\n",
        "  hospital_name = get_hospital_name(hospital_id)\n",
        "  sql_select_query = \"\"\"select * from Doctor where Hospital_Id = ?\"\"\"\n",
        "  cur2.execute(sql_select_query, (hospital_id,))\n",
        "  records = cur2.fetchall()\n",
        "\n",
        "  print(\"Printing Doctors of \", hospital_name, \"Hospital\")\n",
        "  for row in records:\n",
        "    print(\"Doctor Id:\", row[0])\n",
        "    print(\"Doctor Name:\", row[1])\n",
        "    print(\"Hospital Id:\", row[2])\n",
        "    print(\"Hospital Name:\", hospital_name)\n",
        "    print(\"Joining Date:\", row[3])\n",
        "    print(\"Specialty:\", row[4])\n",
        "    print(\"Salary:\", row[5])\n",
        "    print(\"Experience:\", row[6], \"\\n\")\n",
        "\n",
        "get_doctors(2)"
      ],
      "metadata": {
        "id": "_8Pd9VU3NDr9"
      },
      "execution_count": null,
      "outputs": []
    }
  ]
}